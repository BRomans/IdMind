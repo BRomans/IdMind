{
  "nbformat": 4,
  "nbformat_minor": 0,
  "metadata": {
    "colab": {
      "name": "eeg_biometrics.ipynb",
      "provenance": []
    },
    "kernelspec": {
      "name": "python3",
      "display_name": "Python 3"
    }
  },
  "cells": [
    {
      "cell_type": "markdown",
      "metadata": {
        "id": "EkWW2ddS9Tqb"
      },
      "source": [
        "# EEG Biometrics\r\n"
      ]
    },
    {
      "cell_type": "code",
      "metadata": {
        "id": "lCJoISV69Ugz",
        "colab": {
          "base_uri": "https://localhost:8080/"
        },
        "outputId": "96bc5ddf-3140-45f6-83b2-e1729131e586"
      },
      "source": [
        "# Run this cell to load required libraries and mount your Drive folder\r\n",
        "\r\n",
        "import numpy as np\r\n",
        "from matplotlib import pyplot as plt\r\n",
        "from google.colab import drive\r\n",
        "import os\r\n",
        "import json\r\n",
        "import csv\r\n",
        "\r\n",
        "\r\n",
        "drive.mount('/content/drive')\r\n"
      ],
      "execution_count": 25,
      "outputs": [
        {
          "output_type": "stream",
          "text": [
            "Drive already mounted at /content/drive; to attempt to forcibly remount, call drive.mount(\"/content/drive\", force_remount=True).\n"
          ],
          "name": "stdout"
        }
      ]
    },
    {
      "cell_type": "code",
      "metadata": {
        "id": "TNO4m6JRFOT3",
        "colab": {
          "base_uri": "https://localhost:8080/",
          "height": 231
        },
        "outputId": "36fd8443-149f-4c89-af5d-29921d263fec"
      },
      "source": [
        "# Run this cell to navigate through the Drive filesystem and retrieve the dataset\r\n",
        "\r\n",
        "dataset_path = '/content/drive/MyDrive/ml2-eeg-biometrics/raw-data/'\r\n",
        "\r\n",
        "task_duration = 5 # Task average duration is 9 seconds\r\n",
        "\r\n",
        "dataset = {}\r\n",
        "\r\n",
        "left_hand_task = 769\r\n",
        "right_hand_task = 770\r\n",
        "both_feet_task = 771\r\n",
        "idle_task = 780\r\n",
        "\r\n",
        "labels = np.array(['Participant', 'Date', 'Run', 'Task','Trial','F3', 'F1', 'Fz', 'F2', 'F4', 'FC5', 'FC3', 'FC1', 'FCz', 'FC2', 'FC4', 'FC6', 'C5', 'C3', 'C1', 'Cz', 'C2', 'C4', 'C6', 'CP5', 'CP3', 'CP1', 'CPz', 'CP2', 'CP4', 'CP6', 'hEOG', 'vEOG', 'F5', 'AF3', 'AF4', 'P5', 'P3', 'P1', 'Pz', 'P2', 'P4', 'P6', 'PO3', 'POz', 'PO4', 'Oz', 'F6'])\r\n",
        "\r\n",
        "folder_list = os.listdir(dataset_path)\r\n",
        "\r\n",
        "# Open CSV file for write and initialize the header\r\n",
        "with open('eeg_dataset_right_hand_task.csv', \"w\") as csv_file:\r\n",
        "  for label in labels:\r\n",
        "    csv_file.write(label + \",\")\r\n",
        "  csv_file.write(\"\\n\")\r\n",
        "\r\n",
        "  # Navigate through participants\r\n",
        "  for participant_folder in folder_list:\r\n",
        " \r\n",
        "    # Navigate through run folders for each participant\r\n",
        "    for folder in os.listdir(dataset_path + participant_folder):\r\n",
        "      date = folder.split(\"_\")[1]\r\n",
        "\r\n",
        "      # Navigate through the .npz recording file for each run\r\n",
        "      run_identifier = 1\r\n",
        "      for folder_run in os.listdir(dataset_path + participant_folder + \"/\" + folder):    \r\n",
        "        folder_run_name = folder_run.split('.')[0]\r\n",
        "        npz_data = np.load(dataset_path + participant_folder + \"/\" + folder+ \"/\" + folder_run)\r\n",
        "        npz_data_dict = dict(npz_data)\r\n",
        "        sample_rate = npz_data_dict['SampleRate'][0]\r\n",
        "        marked_tasks = npz_data_dict['MarkOnSignal'] \r\n",
        "        data = npz_data_dict['signal']\r\n",
        "\r\n",
        "        # We navigate throuhg marked tasks to find the index of the task we want to copy\r\n",
        "        # then write an entire line on file for each of the subsequent 2500 rows\r\n",
        "        trial = 1\r\n",
        "        for task in marked_tasks:\r\n",
        "          if task[1] == right_hand_task: \r\n",
        "            start_index = task[0]\r\n",
        "            end_index = start_index + (sample_rate * task_duration) # copy all the 2500 lines starting from start_index\r\n",
        "            for sample_index in range(start_index, end_index):  \r\n",
        "              csv_file.write(participant_folder + \",\")\r\n",
        "              csv_file.write(date + \",\")\r\n",
        "              csv_file.write(\"Run\"+ str(run_identifier) + \",\")     \r\n",
        "              csv_file.write(str(task[1]) + \",\")   \r\n",
        "              csv_file.write(str(trial) + \",\") \r\n",
        "              for channel_index in range(0, data[sample_index].size-1):\r\n",
        "                csv_file.write(str(data[sample_index][channel_index]) + \",\")\r\n",
        "              csv_file.write(\"\\n\")\r\n",
        "            trial += 1\r\n",
        "\r\n",
        "        run_identifier += 1 \r\n",
        "        \r\n",
        "      print(\"Folder \" + folder_run + \" for participant \" + participant_folder + \" done!\") \r\n",
        "    print(\"Participant \" + participant_folder + \" done!\") "
      ],
      "execution_count": 31,
      "outputs": [
        {
          "output_type": "error",
          "ename": "KeyboardInterrupt",
          "evalue": "ignored",
          "traceback": [
            "\u001b[0;31m---------------------------------------------------------------------------\u001b[0m",
            "\u001b[0;31mKeyboardInterrupt\u001b[0m                         Traceback (most recent call last)",
            "\u001b[0;32m<ipython-input-31-28e880f85845>\u001b[0m in \u001b[0;36m<module>\u001b[0;34m()\u001b[0m\n\u001b[1;32m     53\u001b[0m               \u001b[0mcsv_file\u001b[0m\u001b[0;34m.\u001b[0m\u001b[0mwrite\u001b[0m\u001b[0;34m(\u001b[0m\u001b[0mstr\u001b[0m\u001b[0;34m(\u001b[0m\u001b[0mtrial\u001b[0m\u001b[0;34m)\u001b[0m \u001b[0;34m+\u001b[0m \u001b[0;34m\",\"\u001b[0m\u001b[0;34m)\u001b[0m\u001b[0;34m\u001b[0m\u001b[0;34m\u001b[0m\u001b[0m\n\u001b[1;32m     54\u001b[0m               \u001b[0;32mfor\u001b[0m \u001b[0mchannel_index\u001b[0m \u001b[0;32min\u001b[0m \u001b[0mrange\u001b[0m\u001b[0;34m(\u001b[0m\u001b[0;36m0\u001b[0m\u001b[0;34m,\u001b[0m \u001b[0mdata\u001b[0m\u001b[0;34m[\u001b[0m\u001b[0msample_index\u001b[0m\u001b[0;34m]\u001b[0m\u001b[0;34m.\u001b[0m\u001b[0msize\u001b[0m\u001b[0;34m-\u001b[0m\u001b[0;36m1\u001b[0m\u001b[0;34m)\u001b[0m\u001b[0;34m:\u001b[0m\u001b[0;34m\u001b[0m\u001b[0;34m\u001b[0m\u001b[0m\n\u001b[0;32m---> 55\u001b[0;31m                 \u001b[0mcsv_file\u001b[0m\u001b[0;34m.\u001b[0m\u001b[0mwrite\u001b[0m\u001b[0;34m(\u001b[0m\u001b[0mstr\u001b[0m\u001b[0;34m(\u001b[0m\u001b[0mdata\u001b[0m\u001b[0;34m[\u001b[0m\u001b[0msample_index\u001b[0m\u001b[0;34m]\u001b[0m\u001b[0;34m[\u001b[0m\u001b[0mchannel_index\u001b[0m\u001b[0;34m]\u001b[0m\u001b[0;34m)\u001b[0m \u001b[0;34m+\u001b[0m \u001b[0;34m\",\"\u001b[0m\u001b[0;34m)\u001b[0m\u001b[0;34m\u001b[0m\u001b[0;34m\u001b[0m\u001b[0m\n\u001b[0m\u001b[1;32m     56\u001b[0m               \u001b[0mcsv_file\u001b[0m\u001b[0;34m.\u001b[0m\u001b[0mwrite\u001b[0m\u001b[0;34m(\u001b[0m\u001b[0;34m\"\\n\"\u001b[0m\u001b[0;34m)\u001b[0m\u001b[0;34m\u001b[0m\u001b[0;34m\u001b[0m\u001b[0m\n\u001b[1;32m     57\u001b[0m             \u001b[0mcsv_file\u001b[0m\u001b[0;34m.\u001b[0m\u001b[0mwrite\u001b[0m\u001b[0;34m(\u001b[0m\u001b[0;34m\"\\n\"\u001b[0m\u001b[0;34m)\u001b[0m\u001b[0;34m\u001b[0m\u001b[0;34m\u001b[0m\u001b[0m\n",
            "\u001b[0;31mKeyboardInterrupt\u001b[0m: "
          ]
        }
      ]
    },
    {
      "cell_type": "code",
      "metadata": {
        "id": "gpVYmRl0cQNN"
      },
      "source": [
        "# Dataset reader\r\n",
        "for participant in dataset:\r\n",
        "  print(participant)\r\n",
        "  for date in dataset[participant]:\r\n",
        "    print(date)\r\n",
        "    for trial in dataset[participant][date]:\r\n",
        "      print(trial + \":\")\r\n",
        "      print(dataset[participant][date][trial])\r\n",
        "    print(\"\\n\")\r\n",
        "  print(\"\\n\")"
      ],
      "execution_count": null,
      "outputs": []
    },
    {
      "cell_type": "code",
      "metadata": {
        "id": "d6oQ3HrMhsAd"
      },
      "source": [
        "example_file_name = '/content/drive/MyDrive/ml2-eeg-biometrics/raw-data/A1/A1_20190613/NSsignal_2019_06_13_19_16_33.npz'\r\n",
        "\r\n",
        "npz_data = np.load(example_file_name)\r\n",
        "npz_data_dict = dict(npz_data)\r\n",
        "sample_rate = npz_data_dict['SampleRate'][0]\r\n",
        "marks = npz_data_dict['MarkOnSignal'] \r\n",
        "data = npz_data_dict['signal']\r\n",
        "channel_labels = np.array(['F3', 'F1', 'Fz', 'F2', 'F4', 'FC5', 'FC3', 'FC1', 'FCz', 'FC2', 'FC4', 'FC6', 'C5', 'C3', 'C1', 'Cz', 'C2', 'C4', 'C6', 'CP5', 'CP3', 'CP1', 'CPz', 'CP2', 'CP4', 'CP6'])\r\n",
        "\r\n",
        "with open('eeg_dataset_example.csv', \"w\") as csv_file:\r\n",
        "        trial = 0\r\n",
        "        csv_file.write(\"Participant A1\")\r\n",
        "        csv_file.write(\"\\n\")\r\n",
        "        csv_file.write(\"Day 20190613\")\r\n",
        "        csv_file.write(\"\\n\")\r\n",
        "        csv_file.write(\"Run 2019_06_13_19_16_33\")        \r\n",
        "        csv_file.write(\"\\n\")\r\n",
        "        for mark in marks:\r\n",
        "          if mark[1] == 770: \r\n",
        "            start_index = mark[0]\r\n",
        "            #dataset[\"A1\"][\"20190613\"][\"trial_1\"] = data[start_index]\r\n",
        "            csv_file.write(\"Trial\" + str(trial))\r\n",
        "            csv_file.write(\"\\n\")\r\n",
        "            for channel in channel_labels:\r\n",
        "              csv_file.write(str(channel) + \",\")\r\n",
        "            csv_file.write(\"\\n\")\r\n",
        "            for i in range(0, channel_labels.size):\r\n",
        "              csv_file.write(str(data[start_index][i]) + \",\")\r\n",
        "            csv_file.write(\"\\n\")\r\n",
        "            trial += 1\r\n",
        "print(\"Done writing CSV file\")"
      ],
      "execution_count": null,
      "outputs": []
    },
    {
      "cell_type": "code",
      "metadata": {
        "id": "6khd7zwAW_H8",
        "outputId": "d1075ed2-8f7a-4c5c-e38f-9464f67f4c2e",
        "colab": {
          "base_uri": "https://localhost:8080/"
        }
      },
      "source": [
        "example_file_name = '/content/drive/MyDrive/ml2-eeg-biometrics/raw-data/S12/S12_20200727/NSsignal_2020_07_27_20_29_17.npz'\r\n",
        "\r\n",
        "npz_data = np.load(example_file_name)\r\n",
        "npz_data_dict = dict(npz_data)\r\n",
        "sample_rate = npz_data_dict['SampleRate'][0]\r\n",
        "marks = npz_data_dict['MarkOnSignal'] \r\n",
        "data = npz_data_dict['signal']\r\n",
        "print(data[27600],  data[27600].size)"
      ],
      "execution_count": 16,
      "outputs": [
        {
          "output_type": "stream",
          "text": [
            "[ 4.08291817e+00  2.38418579e+00 -7.95722008e+00 -2.98023224e+00\n",
            " -4.61935997e+00  8.52346420e+00  3.78489494e+00  4.35113907e+00\n",
            " -1.46031380e+00 -1.11758709e+01 -2.13086605e+01 -1.69575214e+01\n",
            "  2.04741955e+01  1.31130219e+01  6.79492950e+00 -1.05798244e+01\n",
            " -4.79817390e+00  8.91089439e+00 -7.86781311e+00  1.91628933e+01\n",
            " -1.13248825e+01  7.98702240e+00 -1.49011612e-01 -8.94069672e-01\n",
            " -1.54972076e+00 -1.36792660e+01  1.77025795e+01  7.73072243e+01\n",
            " -8.94069672e-02 -6.31809235e+00  1.42157078e+01 -5.30481339e+00\n",
            " -9.83476639e-01  1.53779984e+01  1.54972076e+01  1.17421150e+01\n",
            " -5.06639481e+00  6.28829002e+00 -3.78489494e+00 -1.78813934e-01\n",
            "  4.47034836e+00 -1.07288361e+00 -1.02818012e+01 -1.31130219e+00\n",
            " -1.75833702e+00  1.95309520e+03] 46\n"
          ],
          "name": "stdout"
        }
      ]
    },
    {
      "cell_type": "code",
      "metadata": {
        "id": "Dw7uCGxjFH7-"
      },
      "source": [
        "# Run this cell to save the changes\r\n",
        "\r\n",
        "drive.flush_and_unmount()\r\n",
        "print('All changes made in this colab session should now be visible in Drive.')"
      ],
      "execution_count": null,
      "outputs": []
    }
  ]
}