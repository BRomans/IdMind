{
  "nbformat": 4,
  "nbformat_minor": 0,
  "metadata": {
    "colab": {
      "name": "eeg_biometrics.ipynb",
      "provenance": [],
      "toc_visible": true
    },
    "kernelspec": {
      "name": "python3",
      "display_name": "Python 3"
    }
  },
  "cells": [
    {
      "cell_type": "markdown",
      "metadata": {
        "id": "EkWW2ddS9Tqb"
      },
      "source": [
        "# EEG Biometrics\r\n"
      ]
    },
    {
      "cell_type": "code",
      "metadata": {
        "id": "lCJoISV69Ugz",
        "colab": {
          "base_uri": "https://localhost:8080/"
        },
        "outputId": "a476552c-27b5-4a77-ac8d-11f1b7af6356"
      },
      "source": [
        "# Run this cell to load required libraries and mount your Drive folder\r\n",
        "\r\n",
        "import numpy as np\r\n",
        "from matplotlib import pyplot as plt\r\n",
        "from google.colab import drive\r\n",
        "import os\r\n",
        "import json\r\n",
        "import csv\r\n",
        "\r\n",
        "\r\n",
        "drive.mount('/content/drive')\r\n"
      ],
      "execution_count": 1,
      "outputs": [
        {
          "output_type": "stream",
          "text": [
            "Mounted at /content/drive\n"
          ],
          "name": "stdout"
        }
      ]
    },
    {
      "cell_type": "code",
      "metadata": {
        "id": "TNO4m6JRFOT3"
      },
      "source": [
        "# Run this cell to navigate through the Drive filesystem and extract the dataset for a specific task\r\n",
        "\r\n",
        "dataset_path = '/content/drive/MyDrive/ml2-eeg-biometrics/raw-data/'\r\n",
        "\r\n",
        "task_duration = 5 # Task average duration is 5  seconds\r\n",
        "\r\n",
        "dataset = {}\r\n",
        "\r\n",
        "left_hand_task = 769\r\n",
        "right_hand_task = 770\r\n",
        "both_feet_task = 771\r\n",
        "idle_task = 780\r\n",
        "\r\n",
        "labels = np.array(['Participant', 'Date', 'Run', 'Task','Trial','F3', 'F1', 'Fz', 'F2', 'F4', 'FC5', 'FC3', 'FC1', 'FCz', 'FC2', 'FC4', 'FC6', 'C5', 'C3', 'C1', 'Cz', 'C2', 'C4', 'C6', 'CP5', 'CP3', 'CP1', 'CPz', 'CP2', 'CP4', 'CP6', 'hEOG', 'vEOG', 'F5', 'AF3', 'AF4', 'P5', 'P3', 'P1', 'Pz', 'P2', 'P4', 'P6', 'PO3', 'POz', 'PO4', 'Oz', 'F6'])\r\n",
        "\r\n",
        "folder_list = os.listdir(dataset_path)\r\n",
        "\r\n",
        "# Open CSV file for write and initialize the header\r\n",
        "with open('/content/drive/MyDrive/eeg_dataset_right_hand_task.csv', \"w\") as csv_file:\r\n",
        "  for label in labels:\r\n",
        "    csv_file.write(label + \",\")\r\n",
        "  csv_file.write(\"\\n\")\r\n",
        "\r\n",
        "  # Navigate through participants\r\n",
        "  for participant_folder in folder_list:\r\n",
        " \r\n",
        "    # Navigate through run folders for each participant\r\n",
        "    for folder in os.listdir(dataset_path + participant_folder):\r\n",
        "      date = folder.split(\"_\")[1]\r\n",
        "\r\n",
        "      # Navigate through the .npz recording file for each run\r\n",
        "      run_identifier = 1\r\n",
        "      for folder_run in os.listdir(dataset_path + participant_folder + \"/\" + folder):    \r\n",
        "        folder_run_name = folder_run.split('.')[0]\r\n",
        "        npz_data = np.load(dataset_path + participant_folder + \"/\" + folder+ \"/\" + folder_run)\r\n",
        "        npz_data_dict = dict(npz_data)\r\n",
        "        sample_rate = npz_data_dict['SampleRate'][0]\r\n",
        "        marked_tasks = npz_data_dict['MarkOnSignal'] \r\n",
        "        data = npz_data_dict['signal']\r\n",
        "\r\n",
        "        # We navigate throuhg marked tasks to find the index of the task we want to copy\r\n",
        "        # then write an entire line on file for each of the subsequent 2500 rows\r\n",
        "        trial = 1\r\n",
        "        for task in marked_tasks:\r\n",
        "          if task[1] == right_hand_task: \r\n",
        "            start_index = task[0]\r\n",
        "            end_index = start_index + (sample_rate * task_duration) # copy all the 2500 lines starting from start_index\r\n",
        "            for sample_index in range(start_index, end_index):  \r\n",
        "              csv_file.write(participant_folder + \",\")\r\n",
        "              csv_file.write(date + \",\")\r\n",
        "              csv_file.write(\"Run\"+ str(run_identifier) + \",\")     \r\n",
        "              csv_file.write(str(task[1]) + \",\")   \r\n",
        "              csv_file.write(str(trial) + \",\")\r\n",
        "              try:\r\n",
        "                for channel_index in range(0, data[sample_index].size-1):\r\n",
        "                  csv_file.write(str(data[sample_index][channel_index]) + \",\")\r\n",
        "                csv_file.write(\"\\n\")\r\n",
        "              except:\r\n",
        "                print(\"Exception found in:\" + folder_run, \"at index:\" + str(sample_index))\r\n",
        "                break \r\n",
        "            trial += 1\r\n",
        "\r\n",
        "        run_identifier += 1 \r\n",
        "        \r\n",
        "        print(\"Run \" + folder_run + \" for participant \" + participant_folder + \" done!\") \r\n",
        "    print(\"Participant \" + participant_folder + \" done!\") "
      ],
      "execution_count": null,
      "outputs": []
    },
    {
      "cell_type": "code",
      "metadata": {
        "id": "CjElrnbemlwr"
      },
      "source": [
        "# Run this cell to navigate through the Drive filesystem and extract a subset of the dataset for a specific task\r\n",
        "\r\n",
        "dataset_path = '/content/drive/MyDrive/ml2-eeg-biometrics/raw-data/'\r\n",
        "\r\n",
        "task_duration = 5 # Task average duration is 5  seconds\r\n",
        "\r\n",
        "dataset = {}\r\n",
        "\r\n",
        "left_hand_task = 769\r\n",
        "right_hand_task = 770\r\n",
        "both_feet_task = 771\r\n",
        "idle_task = 780\r\n",
        "\r\n",
        "labels = np.array(['Participant', 'Date', 'Run', 'Task','Trial','F3', 'F4', 'FC3', 'FC4', 'C3', 'Cz', 'C4', 'CP3', 'CP4'])\r\n",
        "subset_indexes = np.array([0, 4, 6, 10, 13, 15, 17, 20, 24])\r\n",
        "folder_list = os.listdir(dataset_path)\r\n",
        "\r\n",
        "# Open CSV file for write and initialize the header\r\n",
        "with open('/content/drive/MyDrive/eeg_dataset_right_hand_task_subset_9channels.csv', \"w\") as csv_file:\r\n",
        "  for label in labels:\r\n",
        "    csv_file.write(label + \",\")\r\n",
        "  csv_file.write(\"\\n\")\r\n",
        "\r\n",
        "  # Navigate through participants\r\n",
        "  for participant_folder in folder_list:\r\n",
        " \r\n",
        "    # Navigate through run folders for each participant\r\n",
        "    for folder in os.listdir(dataset_path + participant_folder):\r\n",
        "      date = folder.split(\"_\")[1]\r\n",
        "\r\n",
        "      # Navigate through the .npz recording file for each run\r\n",
        "      run_identifier = 1\r\n",
        "      for folder_run in os.listdir(dataset_path + participant_folder + \"/\" + folder):    \r\n",
        "        folder_run_name = folder_run.split('.')[0]\r\n",
        "        npz_data = np.load(dataset_path + participant_folder + \"/\" + folder+ \"/\" + folder_run)\r\n",
        "        npz_data_dict = dict(npz_data)\r\n",
        "        sample_rate = npz_data_dict['SampleRate'][0]\r\n",
        "        marked_tasks = npz_data_dict['MarkOnSignal'] \r\n",
        "        data = npz_data_dict['signal']\r\n",
        "\r\n",
        "        # We navigate throuhg marked tasks to find the index of the task we want to copy\r\n",
        "        # then write an entire line on file for each of the subsequent 2500 rows\r\n",
        "        trial = 1\r\n",
        "        for task in marked_tasks:\r\n",
        "          if task[1] == right_hand_task: \r\n",
        "            start_index = task[0]\r\n",
        "            end_index = start_index + (sample_rate * task_duration) # copy all the 2500 lines starting from start_index\r\n",
        "            for trial_index in range(start_index, end_index):  \r\n",
        "              csv_file.write(participant_folder + \",\")\r\n",
        "              csv_file.write(date + \",\")\r\n",
        "              csv_file.write(\"Run\"+ str(run_identifier) + \",\")     \r\n",
        "              csv_file.write(str(task[1]) + \",\")   \r\n",
        "              csv_file.write(str(trial) + \",\")\r\n",
        "              try:\r\n",
        "                for index in subset_indexes:\r\n",
        "                  csv_file.write(str(data[trial_index][index]) + \",\")\r\n",
        "                csv_file.write(\"\\n\")\r\n",
        "              except:\r\n",
        "                print(\"Exception found in:\" + folder_run, \"at trial index:\" + str(trial_index))\r\n",
        "                break \r\n",
        "            trial += 1\r\n",
        "\r\n",
        "        run_identifier += 1 \r\n",
        "        \r\n",
        "        print(\"Run \" + folder_run + \" for participant \" + participant_folder + \" done!\") \r\n",
        "    print(\"Participant \" + participant_folder + \" done!\") "
      ],
      "execution_count": null,
      "outputs": []
    },
    {
      "cell_type": "code",
      "metadata": {
        "id": "gpVYmRl0cQNN"
      },
      "source": [
        "# Dataset reader\r\n",
        "for participant in dataset:\r\n",
        "  print(participant)\r\n",
        "  for date in dataset[participant]:\r\n",
        "    print(date)\r\n",
        "    for trial in dataset[participant][date]:\r\n",
        "      print(trial + \":\")\r\n",
        "      print(dataset[participant][date][trial])\r\n",
        "    print(\"\\n\")\r\n",
        "  print(\"\\n\")"
      ],
      "execution_count": null,
      "outputs": []
    },
    {
      "cell_type": "code",
      "metadata": {
        "id": "d6oQ3HrMhsAd"
      },
      "source": [
        "example_file_name = '/content/drive/MyDrive/ml2-eeg-biometrics/raw-data/A1/A1_20190613/NSsignal_2019_06_13_19_16_33.npz'\r\n",
        "\r\n",
        "npz_data = np.load(example_file_name)\r\n",
        "npz_data_dict = dict(npz_data)\r\n",
        "sample_rate = npz_data_dict['SampleRate'][0]\r\n",
        "marks = npz_data_dict['MarkOnSignal'] \r\n",
        "data = npz_data_dict['signal']\r\n",
        "channel_labels = np.array(['F3', 'F1', 'Fz', 'F2', 'F4', 'FC5', 'FC3', 'FC1', 'FCz', 'FC2', 'FC4', 'FC6', 'C5', 'C3', 'C1', 'Cz', 'C2', 'C4', 'C6', 'CP5', 'CP3', 'CP1', 'CPz', 'CP2', 'CP4', 'CP6'])\r\n",
        "\r\n",
        "with open('eeg_dataset_example.csv', \"w\") as csv_file:\r\n",
        "        trial = 0\r\n",
        "        csv_file.write(\"Participant A1\")\r\n",
        "        csv_file.write(\"\\n\")\r\n",
        "        csv_file.write(\"Day 20190613\")\r\n",
        "        csv_file.write(\"\\n\")\r\n",
        "        csv_file.write(\"Run 2019_06_13_19_16_33\")        \r\n",
        "        csv_file.write(\"\\n\")\r\n",
        "        for mark in marks:\r\n",
        "          if mark[1] == 770: \r\n",
        "            start_index = mark[0]\r\n",
        "            #dataset[\"A1\"][\"20190613\"][\"trial_1\"] = data[start_index]\r\n",
        "            csv_file.write(\"Trial\" + str(trial))\r\n",
        "            csv_file.write(\"\\n\")\r\n",
        "            for channel in channel_labels:\r\n",
        "              csv_file.write(str(channel) + \",\")\r\n",
        "            csv_file.write(\"\\n\")\r\n",
        "            for i in range(0, channel_labels.size):\r\n",
        "              csv_file.write(str(data[start_index][i]) + \",\")\r\n",
        "            csv_file.write(\"\\n\")\r\n",
        "            trial += 1\r\n",
        "print(\"Done writing CSV file\")"
      ],
      "execution_count": null,
      "outputs": []
    },
    {
      "cell_type": "code",
      "metadata": {
        "id": "6khd7zwAW_H8"
      },
      "source": [
        "example_file_name = '/content/drive/MyDrive/ml2-eeg-biometrics/raw-data/S1/S1_20200724/NSsignal_2020_07_24_10_19_46.npz'\r\n",
        "\r\n",
        "npz_data = np.load(example_file_name)\r\n",
        "npz_data_dict = dict(npz_data)\r\n",
        "sample_rate = npz_data_dict['SampleRate'][0]\r\n",
        "marks = npz_data_dict['MarkOnSignal'] \r\n",
        "data = npz_data_dict['signal']\r\n",
        "print(npz_data_dict)"
      ],
      "execution_count": null,
      "outputs": []
    },
    {
      "cell_type": "code",
      "metadata": {
        "id": "Dw7uCGxjFH7-",
        "colab": {
          "base_uri": "https://localhost:8080/"
        },
        "outputId": "df215920-b95f-4a94-b7f8-3529a559cbbb"
      },
      "source": [
        "# Run this cell to save the changes\r\n",
        "\r\n",
        "drive.flush_and_unmount()\r\n",
        "print('All changes made in this colab session should now be visible in Drive.')"
      ],
      "execution_count": null,
      "outputs": [
        {
          "output_type": "stream",
          "text": [
            "All changes made in this colab session should now be visible in Drive.\n"
          ],
          "name": "stdout"
        }
      ]
    }
  ]
}