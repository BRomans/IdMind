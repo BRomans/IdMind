{
  "nbformat": 4,
  "nbformat_minor": 0,
  "metadata": {
    "colab": {
      "name": "eeg_biometrics.ipynb",
      "provenance": []
    },
    "kernelspec": {
      "name": "python3",
      "display_name": "Python 3"
    }
  },
  "cells": [
    {
      "cell_type": "markdown",
      "metadata": {
        "id": "EkWW2ddS9Tqb"
      },
      "source": [
        "# EEG Biometrics\r\n"
      ]
    },
    {
      "cell_type": "code",
      "metadata": {
        "id": "lCJoISV69Ugz",
        "colab": {
          "base_uri": "https://localhost:8080/"
        },
        "outputId": "8b089159-0383-4594-9f01-7807d4bbfe8c"
      },
      "source": [
        "# Run this cell to load required libraries and mount your Drive folder\r\n",
        "\r\n",
        "import numpy as np\r\n",
        "from matplotlib import pyplot as plt\r\n",
        "from google.colab import drive\r\n",
        "import os\r\n",
        "\r\n",
        "\r\n",
        "drive.mount('/content/drive')\r\n"
      ],
      "execution_count": 33,
      "outputs": [
        {
          "output_type": "stream",
          "text": [
            "Drive already mounted at /content/drive; to attempt to forcibly remount, call drive.mount(\"/content/drive\", force_remount=True).\n"
          ],
          "name": "stdout"
        }
      ]
    },
    {
      "cell_type": "code",
      "metadata": {
        "id": "TNO4m6JRFOT3",
        "colab": {
          "base_uri": "https://localhost:8080/"
        },
        "outputId": "f4f1f89e-2200-45a6-b064-4de92937488e"
      },
      "source": [
        "# Run this cell to navigate through the Drive filesystem and retrieve the dataset\r\n",
        "\r\n",
        "dataset_path = '/content/drive/MyDrive/ml2-eeg-biometrics/raw-data/'\r\n",
        "example_file_name = '/content/drive/MyDrive/ml2-eeg-biometrics/raw-data/A1/A1_20190613/NSsignal_2019_06_13_19_16_33.npz'\r\n",
        "\r\n",
        "sample_rate = 500 #How many samples per second\r\n",
        "task_duration = 9 # Task average duration is 9 seconds\r\n",
        "\r\n",
        "dataset = {}\r\n",
        "\r\n",
        "folder_list = os.listdir(dataset_path)\r\n",
        "\r\n",
        "# Navigate directories and files in the dataset\r\n",
        "for participant_folder in folder_list:\r\n",
        "  #print(\"Participant \" + participant_folder)\r\n",
        "  dataset[participant_folder] = []\r\n",
        "  for folder in os.listdir(dataset_path + participant_folder):\r\n",
        "    #print(\"Folder: \" + folder)\r\n",
        "    date = folder.split(\"_\")[1]\r\n",
        "    dataset[participant_folder].append(date)\r\n",
        "    for file in os.listdir(dataset_path + participant_folder + \"/\" + folder):\r\n",
        "      #print(file)\r\n",
        "      foo = 0\r\n",
        "\r\n",
        "print(dataset)\r\n",
        "\r\n",
        "npz_data = np.load(example_file_name)\r\n",
        "\r\n",
        "npz_data_dict = dict(npz_data)\r\n",
        "fs = npz_data_dict['SampleRate'][0]\r\n",
        "index = npz_data_dict['MarkOnSignal'] \r\n",
        "data = npz_data_dict['signal']\r\n",
        "\r\n",
        "print(data)\r\n"
      ],
      "execution_count": 37,
      "outputs": [
        {
          "output_type": "stream",
          "text": [
            "{'S1': ['20200718', '20200719', '20200720', '20200721', '20200722', '20200723', '20200724'], 'S2': ['20200718', '20200719', '20200720', '20200721', '20200722', '20200723', '20200724'], 'S3': ['20200718', '20200721', '20200719', '20200720', '20200722', '20200723', '20200724'], 'S4': ['20200718', '20200719', '20200720', '20200721', '20200722', '20200723', '20200724'], 'S5': ['20200724', '20200720', '20200722', '20200719', '20200718', '20200723', '20200721'], 'S6': ['20200720', '20200718', '20200719', '20200724', '20200722', '20200723', '20200721'], 'S12': ['20200728', '20200727', '20200730', '20200801', '20200731', '20200726', '20200729'], 'S11': ['20200801', '20200731', '20200726', '20200729', '20200730', '20200727', '20200728'], 'S7': ['20200727', '20200730', '20200731', '20200728', '20200726', '20200729', '20200801'], 'S8': ['20200726', '20200727', '20200728', '20200729', '20200730', '20200731', '20200801'], 'S9': ['20200726', '20200727', '20200728', '20200801', '20200729', '20200730', '20200731'], 'S10': ['20200730', '20200801', '20200726', '20200731', '20200729', '20200727', '20200728'], 'A5': ['20190614', '20190611', '20190612', '20190613', '20190606', '20190605', '20190604'], 'A7': ['20190617', '20190624', '20190619', '20190620', '20190621', '20190625', '20190626'], 'A6': ['20190617', '20190616', '20190615', '20190621', '20190619', '20190620', '20190623'], 'A8': ['20190611', '20190606', '20190605', '20190610', '20190604', '20190613'], 'A3': ['20190620', '20190614', '20190616', '20190619', '20190615', '20190617', '20190621'], 'A4': ['20190611', '20190605', '20190610', '20190614', '20190612', '20190613', '20190606'], 'A1': ['20190616', '20190618', '20190617', '20190620', '20190613', '20190615', '20190619'], 'A2': ['20190610', '20190615', '20190614', '20190625', '20190624', '20190616', '20190621']}\n",
            "[[-3.10838223e+01 -1.25825405e+02  7.27176666e+01 ...  4.32729721e+01\n",
            "   3.02702188e+02  0.00000000e+00]\n",
            " [-1.38729811e+02 -5.60760498e+02  3.24010849e+02 ...  1.91926956e+02\n",
            "   1.34640932e+03  0.00000000e+00]\n",
            " [-3.09079885e+02 -1.24830008e+03  7.21067190e+02 ...  4.25547361e+02\n",
            "   2.99158692e+03  0.00000000e+00]\n",
            " ...\n",
            " [ 2.32458115e+00  7.15255737e-01  1.40070915e+00 ...  2.73287296e+01\n",
            "   1.69873238e+00  1.95309520e+03]\n",
            " [ 2.56299973e+00  1.13248825e+00  1.60932541e+00 ...  2.67028809e+01\n",
            "   1.66893005e+00  1.95309520e+03]\n",
            " [ 2.65240669e+00  1.49011612e+00  1.75833702e+00 ...  2.61664391e+01\n",
            "   1.75833702e+00  1.95309520e+03]]\n"
          ],
          "name": "stdout"
        }
      ]
    },
    {
      "cell_type": "code",
      "metadata": {
        "id": "uK1oBkC7T-Bt"
      },
      "source": [
        "# Run this test to load a dataset with Numpy\r\n",
        "\r\n",
        "with open(example_file_name, 'w') as dataset_file:\r\n",
        "  print(dataset_file)\r\n",
        "  data=np.load(dataset_file) \r\n",
        "  print(data)"
      ],
      "execution_count": null,
      "outputs": []
    },
    {
      "cell_type": "code",
      "metadata": {
        "id": "Dw7uCGxjFH7-"
      },
      "source": [
        "# Run this cell to save the changes\r\n",
        "\r\n",
        "drive.flush_and_unmount()\r\n",
        "print('All changes made in this colab session should now be visible in Drive.')"
      ],
      "execution_count": null,
      "outputs": []
    }
  ]
}