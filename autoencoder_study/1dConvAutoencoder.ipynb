{
  "nbformat": 4,
  "nbformat_minor": 0,
  "metadata": {
    "colab": {
      "name": "1dCNN.ipynb",
      "provenance": [],
      "authorship_tag": "ABX9TyOXXmE6I+mZIuoq4LfT3oxk",
      "include_colab_link": true
    },
    "kernelspec": {
      "name": "python3",
      "display_name": "Python 3"
    },
    "accelerator": "GPU"
  },
  "cells": [
    {
      "cell_type": "markdown",
      "metadata": {
        "id": "view-in-github",
        "colab_type": "text"
      },
      "source": [
        "<a href=\"https://colab.research.google.com/github/BRomans/IdMind/blob/main/1dConvAutoencoder.ipynb\" target=\"_parent\"><img src=\"https://colab.research.google.com/assets/colab-badge.svg\" alt=\"Open In Colab\"/></a>"
      ]
    },
    {
      "cell_type": "markdown",
      "metadata": {
        "id": "KpD3L3ZAqxVc"
      },
      "source": [
        "#Initialization\r\n",
        "Load required libraries"
      ]
    },
    {
      "cell_type": "code",
      "metadata": {
        "id": "8NTp2eEbMf8X"
      },
      "source": [
        "import numpy as np\r\n",
        "import pandas as pd\r\n",
        "from numpy import mean\r\n",
        "from numpy import std\r\n",
        "from numpy import dstack\r\n",
        "from pandas import read_csv\r\n",
        "from matplotlib import pyplot as plt\r\n",
        "from keras.models import Model\r\n",
        "from keras.layers import Dense\r\n",
        "from keras.layers import Input\r\n",
        "from keras.layers import Reshape\r\n",
        "from keras.layers import Flatten\r\n",
        "from keras.layers import Dropout\r\n",
        "from keras.optimizers  import Adam\r\n",
        "from keras.layers.convolutional import Conv1D\r\n",
        "from keras.layers.convolutional import MaxPooling1D\r\n",
        "from keras.layers.convolutional import AveragePooling1D\r\n",
        "from keras.layers.convolutional import UpSampling1D\r\n",
        "from keras.callbacks import ModelCheckpoint, EarlyStopping\r\n",
        "from keras.utils import to_categorical\r\n",
        "from google.colab import drive\r\n",
        "import tensorflow as tf\r\n"
      ],
      "execution_count": 10,
      "outputs": []
    },
    {
      "cell_type": "markdown",
      "metadata": {
        "id": "08uL3lF3q64A"
      },
      "source": [
        "Mount shared drive folder\r\n",
        "\r\n"
      ]
    },
    {
      "cell_type": "code",
      "metadata": {
        "colab": {
          "base_uri": "https://localhost:8080/"
        },
        "id": "BKJbaqwoNZWV",
        "outputId": "99952aff-662e-4424-cc34-17898d3b9f23"
      },
      "source": [
        "drive.mount(\"/content/drive\")\r\n",
        "dirpath = \"/content/drive/MyDrive/ml2-eeg-biometrics/train-test-data/\" "
      ],
      "execution_count": 2,
      "outputs": [
        {
          "output_type": "stream",
          "text": [
            "Mounted at /content/drive\n"
          ],
          "name": "stdout"
        }
      ]
    },
    {
      "cell_type": "markdown",
      "metadata": {
        "id": "UdTBToc2rBB1"
      },
      "source": [
        "Initialize seed and logging level"
      ]
    },
    {
      "cell_type": "code",
      "metadata": {
        "id": "RmTb8VPkq_2u"
      },
      "source": [
        "# set random seed\r\n",
        "np.random.seed(10)\r\n",
        "tf.compat.v1.set_random_seed(10)\r\n",
        "tf.compat.v1.logging.set_verbosity(tf.compat.v1.logging.ERROR)"
      ],
      "execution_count": 5,
      "outputs": []
    },
    {
      "cell_type": "markdown",
      "metadata": {
        "id": "Ae9Qlzfnrrzh"
      },
      "source": [
        "#Load data and processing"
      ]
    },
    {
      "cell_type": "markdown",
      "metadata": {
        "id": "zQyQ4MqCsY6x"
      },
      "source": [
        "Load unscaled datasets"
      ]
    },
    {
      "cell_type": "code",
      "metadata": {
        "id": "chQFJ7BaNdq5"
      },
      "source": [
        "def load_datasets():\r\n",
        "  x_train = np.asarray(np.load(dirpath + 'x_train.npy')).astype(np.float32)\r\n",
        "  y_train = np.asarray(np.load(dirpath + 'y_train.npy')).astype(np.float32)\r\n",
        "  x_test = np.asarray(np.load(dirpath + 'x_test.npy', allow_pickle=True)).astype(np.float32)\r\n",
        "  y_test = np.asarray(np.load(dirpath + 'y_test.npy', allow_pickle=True)).astype(np.float32)\r\n",
        "  x_valid = np.asarray(np.load(dirpath + 'x_valid.npy', allow_pickle=True)).astype(np.float32)\r\n",
        "  y_valid = np.asarray(np.load(dirpath + 'y_valid.npy', allow_pickle=True)).astype(np.float32)\r\n",
        "  return x_train, y_train, x_test, y_test, x_valid, y_valid"
      ],
      "execution_count": 6,
      "outputs": []
    },
    {
      "cell_type": "code",
      "metadata": {
        "id": "2zXuaF7osS6j"
      },
      "source": [
        "x_train_u, y_train_u, x_test_u, y_test_u, x_valid_u, y_valid_u = load_datasets()"
      ],
      "execution_count": 7,
      "outputs": []
    },
    {
      "cell_type": "markdown",
      "metadata": {
        "id": "CX7pgB74sbWq"
      },
      "source": [
        "Plot distribution of unscaled data"
      ]
    },
    {
      "cell_type": "code",
      "metadata": {
        "id": "HYyhIgr9t52l"
      },
      "source": [
        "cols = ['Statistic','F3', 'F4', 'FC3', 'FC4', 'C3', 'Cz', 'C4', 'CP3', 'CP4']\r\n",
        "def data_summary(dataset):\r\n",
        "  \"\"\" \r\n",
        "  input:\r\n",
        "    dataset     the three dimensional input (n_samples, n_timepoints, n_features) \r\n",
        "\r\n",
        "    Prints histograms for the 9 features individually\r\n",
        "  returns: \r\n",
        "    summ_df     pd.DataFrame containing summary statistics for the 9 features.\r\n",
        "  \"\"\"\r\n",
        "  data = dataset.reshape((dataset.shape[0] * dataset.shape[1], dataset.shape[2])) # Reshape to 2D (n_samples*n_timepoints, n_features)\r\n",
        "  \r\n",
        "  # Calculate the summary statistics.\r\n",
        "  min   = data.min(axis=0).reshape(1, data.shape[1])                  # Calculate the minimum over the rows for each column.\r\n",
        "  max   = data.max(axis=0).reshape(1, data.shape[1])                  # Then reshape the result to one row and n_cols=n_features, to make it easier to combine later.\r\n",
        "  mean  = data.mean(axis=0).reshape(1, data.shape[1])\r\n",
        "  var   = data.var(axis=0).reshape(1, data.shape[1])\r\n",
        "  q01   = np.quantile(data, 0.01, axis=0).reshape(1, data.shape[1])\r\n",
        "  q99   = np.quantile(data, 0.99, axis=0).reshape(1, data.shape[1])\r\n",
        "\r\n",
        "  names=np.array([['min','max','mean','var','1st percentile', '99th percentile']]).reshape(6,1) # Create a column of names for the summary stats.\r\n",
        "  stats = np.concatenate((min,max,mean,var,q01,q99), axis=0)          # Combine the summary stats in one array\r\n",
        "\r\n",
        "  summ = np.concatenate((names, np.round(stats, 4)), axis=1)          # Combine the summary stats with their names.\r\n",
        "  summ_df = pd.DataFrame(summ, columns=cols)                          # Create a dataframe and supply the channel names as columns.\r\n",
        "\r\n",
        "  # Plot histograms per channel.\r\n",
        "  fig, axes = plt.subplots(3,3, figsize = (9,9))\r\n",
        "  axes=axes.ravel()\r\n",
        "  for i in range(9): # Loop through the channels.\r\n",
        "    axes[i].hist(data[:,i], range= (q01[0,i], q99[0,i]),   density=True)    # Add histogram subplot for the values of that channel.\r\n",
        "    axes[i].title.set_text(cols[i+1])                                       # Add a title with the channel name.\r\n",
        "  fig.suptitle(\"Distribution for each channel (between 1st & 99th percentile)\", size=16)\r\n",
        "  fig.tight_layout(rect=[0, 0.03, 1, 0.95])                                 # Cut the plot space to make space for the global title.\r\n",
        "\r\n",
        "  return summ_df"
      ],
      "execution_count": 8,
      "outputs": []
    },
    {
      "cell_type": "code",
      "metadata": {
        "colab": {
          "base_uri": "https://localhost:8080/",
          "height": 846
        },
        "id": "t4TSoeEPt_ZP",
        "outputId": "7e6a27cc-4b68-42ed-fe5e-10c494f634c0"
      },
      "source": [
        "# Plot distributions of each channel.\r\n",
        "unscaled_summary = data_summary(x_train_u)\r\n",
        "unscaled_summary"
      ],
      "execution_count": 11,
      "outputs": [
        {
          "output_type": "execute_result",
          "data": {
            "text/html": [
              "<div>\n",
              "<style scoped>\n",
              "    .dataframe tbody tr th:only-of-type {\n",
              "        vertical-align: middle;\n",
              "    }\n",
              "\n",
              "    .dataframe tbody tr th {\n",
              "        vertical-align: top;\n",
              "    }\n",
              "\n",
              "    .dataframe thead th {\n",
              "        text-align: right;\n",
              "    }\n",
              "</style>\n",
              "<table border=\"1\" class=\"dataframe\">\n",
              "  <thead>\n",
              "    <tr style=\"text-align: right;\">\n",
              "      <th></th>\n",
              "      <th>Statistic</th>\n",
              "      <th>F3</th>\n",
              "      <th>F4</th>\n",
              "      <th>FC3</th>\n",
              "      <th>FC4</th>\n",
              "      <th>C3</th>\n",
              "      <th>Cz</th>\n",
              "      <th>C4</th>\n",
              "      <th>CP3</th>\n",
              "      <th>CP4</th>\n",
              "    </tr>\n",
              "  </thead>\n",
              "  <tbody>\n",
              "    <tr>\n",
              "      <th>0</th>\n",
              "      <td>min</td>\n",
              "      <td>-5660.8916</td>\n",
              "      <td>-5971.1934</td>\n",
              "      <td>-483.4533</td>\n",
              "      <td>-408.5898</td>\n",
              "      <td>-794.5895</td>\n",
              "      <td>-379.5326</td>\n",
              "      <td>-611.0966</td>\n",
              "      <td>-5933.9404</td>\n",
              "      <td>-795.0663</td>\n",
              "    </tr>\n",
              "    <tr>\n",
              "      <th>1</th>\n",
              "      <td>max</td>\n",
              "      <td>1458.317</td>\n",
              "      <td>10121.0176</td>\n",
              "      <td>467.6282</td>\n",
              "      <td>521.034</td>\n",
              "      <td>424.4447</td>\n",
              "      <td>233.084</td>\n",
              "      <td>433.3854</td>\n",
              "      <td>8819.4902</td>\n",
              "      <td>302.3744</td>\n",
              "    </tr>\n",
              "    <tr>\n",
              "      <th>2</th>\n",
              "      <td>mean</td>\n",
              "      <td>0.8761</td>\n",
              "      <td>1.9568</td>\n",
              "      <td>0.4438</td>\n",
              "      <td>0.7237</td>\n",
              "      <td>-0.0427</td>\n",
              "      <td>0.0256</td>\n",
              "      <td>0.268</td>\n",
              "      <td>0.4006</td>\n",
              "      <td>0.0518</td>\n",
              "    </tr>\n",
              "    <tr>\n",
              "      <th>3</th>\n",
              "      <td>var</td>\n",
              "      <td>1145.7631</td>\n",
              "      <td>16894.3496</td>\n",
              "      <td>368.0521</td>\n",
              "      <td>436.3182</td>\n",
              "      <td>331.6829</td>\n",
              "      <td>96.1104</td>\n",
              "      <td>537.9833</td>\n",
              "      <td>10018.1748</td>\n",
              "      <td>499.7603</td>\n",
              "    </tr>\n",
              "    <tr>\n",
              "      <th>4</th>\n",
              "      <td>1st percentile</td>\n",
              "      <td>-77.5456</td>\n",
              "      <td>-119.6563</td>\n",
              "      <td>-54.3594</td>\n",
              "      <td>-58.651</td>\n",
              "      <td>-55.7303</td>\n",
              "      <td>-25.7492</td>\n",
              "      <td>-75.2807</td>\n",
              "      <td>-134.4085</td>\n",
              "      <td>-69.9162</td>\n",
              "    </tr>\n",
              "    <tr>\n",
              "      <th>5</th>\n",
              "      <td>99th percentile</td>\n",
              "      <td>84.9664</td>\n",
              "      <td>137.8953</td>\n",
              "      <td>59.1278</td>\n",
              "      <td>64.373</td>\n",
              "      <td>55.2237</td>\n",
              "      <td>25.63</td>\n",
              "      <td>76.1151</td>\n",
              "      <td>137.7463</td>\n",
              "      <td>73.6117</td>\n",
              "    </tr>\n",
              "  </tbody>\n",
              "</table>\n",
              "</div>"
            ],
            "text/plain": [
              "         Statistic          F3          F4  ...         C4         CP3        CP4\n",
              "0              min  -5660.8916  -5971.1934  ...  -611.0966  -5933.9404  -795.0663\n",
              "1              max    1458.317  10121.0176  ...   433.3854   8819.4902   302.3744\n",
              "2             mean      0.8761      1.9568  ...      0.268      0.4006     0.0518\n",
              "3              var   1145.7631  16894.3496  ...   537.9833  10018.1748   499.7603\n",
              "4   1st percentile    -77.5456   -119.6563  ...   -75.2807   -134.4085   -69.9162\n",
              "5  99th percentile     84.9664    137.8953  ...    76.1151    137.7463    73.6117\n",
              "\n",
              "[6 rows x 10 columns]"
            ]
          },
          "metadata": {
            "tags": []
          },
          "execution_count": 11
        },
        {
          "output_type": "display_data",
          "data": {
            "image/png": "[encoded data removed]",
            "text/plain": [
              "<Figure size 648x648 with 9 Axes>"
            ]
          },
          "metadata": {
            "tags": [],
            "needs_background": "light"
          }
        }
      ]
    },
    {
      "cell_type": "code",
      "metadata": {
        "id": "XC-9q9RVdNvM"
      },
      "source": [
        "# https://stackoverflow.com/questions/49290895/how-to-implement-a-1d-convolutional-auto-encoder-in-keras-for-vector-data\r\n",
        "\r\n",
        "class Autoencoder():\r\n",
        "    def __init__(self):\r\n",
        "        self.batch_size = 1\r\n",
        "        self.time_steps = 2500\r\n",
        "        self.channels = 9\r\n",
        "        self.input_sigmoid = (self.time_steps, self.channels)\r\n",
        "        \r\n",
        "        optimizer = Adam(lr=0.001)\r\n",
        "        \r\n",
        "        self.autoencoder_model = self.build_model()\r\n",
        "        self.autoencoder_model.compile(loss='mse', optimizer=optimizer)\r\n",
        "        self.autoencoder_model.summary()\r\n",
        "    \r\n",
        "    def build_model(self):\r\n",
        "        input_layer = Input(shape=self.input_sigmoid)\r\n",
        "        \r\n",
        "        # encoder\r\n",
        "        x = Conv1D(filters=64, kernel_size=7, activation='relu', padding='same',dilation_rate=2)(input_layer) # When using this layer as the first layer in a model, provide an input_shape argument \r\n",
        "                                                                                                             # (tuple of integers or None, e.g. (10, 128) for sequences of 10 vectors of 128-dimensional vectors, \r\n",
        "                                                                                                             # or (None, 128) for variable-length sequences of 128-dimensional vectors.\r\n",
        "        x1 = MaxPooling1D(pool_size=2)(x) # Downsamples the input representation by taking the maximum value over the window defined by pool_size. The window is shifted by strides. \r\n",
        "                                          # The resulting output when using \"valid\" padding option has a shape of: output_shape = (input_shape - pool_size + 1) / strides)\r\n",
        "        x2 = Conv1D(filters=32,kernel_size=7, activation='relu', padding='same',dilation_rate=2)(x1)\r\n",
        "        x3 = MaxPooling1D(pool_size=2)(x2)\r\n",
        "        x4 = AveragePooling1D()(x3)\r\n",
        "        flat = Flatten()(x4)\r\n",
        "        encoded = Dense(units=70)(flat)\r\n",
        "\r\n",
        "        # decoder\r\n",
        "        d1 = Dense(units=36)(encoded) # Densely-connected NN layer.\r\n",
        "        d2 = Reshape((18,2))(d1) #Layer that reshapes inputs into the given shape.\r\n",
        "        d3 = Conv1D(filters=32,kernel_size=1,strides=1, activation='relu', padding='same')(d2)\r\n",
        "        d4 = UpSampling1D(size=2)(d3) #Repeats each temporal step size times along the time axis.\r\n",
        "        d5 = Conv1D(filters=32,kernel_size=1,strides=1, activation='relu', padding='same')(d4)\r\n",
        "        d6 = UpSampling1D(size=2)(d5)\r\n",
        "        d7 = UpSampling1D(size=2)(d6)\r\n",
        "        decoded = Conv1D(filters=1,kernel_size=1,strides=1, activation='sigmoid', padding='same')(d7)\r\n",
        "        model = Model(input_layer, x)\r\n",
        "        model.output_shape\r\n",
        "        return model\r\n",
        "                      \r\n",
        "    def train_model(self, x_train, y_train, x_val, y_val, epochs, batch_size=20):\r\n",
        "        early_stopping = EarlyStopping(monitor='val_loss',\r\n",
        "                                       min_delta=0,\r\n",
        "                                       patience=5,\r\n",
        "                                       verbose=1, \r\n",
        "                                       mode='auto')\r\n",
        "        history = self.autoencoder_model.fit(x_train, y_train,\r\n",
        "                                             batch_size=batch_size,\r\n",
        "                                             epochs=epochs,\r\n",
        "                                             validation_data=(x_val, y_val),\r\n",
        "                                             callbacks=[early_stopping])\r\n",
        "        plt.plot(history.history['loss'])\r\n",
        "        plt.plot(history.history['val_loss'])\r\n",
        "        plt.title('Model loss')\r\n",
        "        plt.ylabel('Loss')\r\n",
        "        plt.xlabel('Epoch')\r\n",
        "        plt.legend(['Train', 'Test'], loc='upper left')\r\n",
        "        plt.show()\r\n",
        "    \r\n",
        "    def eval_model(self, x_test):\r\n",
        "        preds = self.autoencoder_model.predict(x_test)\r\n",
        "        return preds"
      ],
      "execution_count": null,
      "outputs": []
    },
    {
      "cell_type": "code",
      "metadata": {
        "id": "1q8LiKFD2cz5"
      },
      "source": [
        "# load data\r\n",
        "x_train, y_train, x_test, y_test, x_valid, y_valid = load_dataset()"
      ],
      "execution_count": null,
      "outputs": []
    },
    {
      "cell_type": "code",
      "metadata": {
        "colab": {
          "base_uri": "https://localhost:8080/"
        },
        "id": "XMxwk_872RjC",
        "outputId": "697fa9a7-9c98-4128-e89c-03dca22b7051"
      },
      "source": [
        "_1dConvAutoencoder = Autoencoder()\r\n",
        "#_1dConvAutoencoder.train_model(x_train, y_train, x_valid, y_valid, 10)\r\n",
        "#preds = model.eval_model(x_test)\r\n"
      ],
      "execution_count": null,
      "outputs": [
        {
          "output_type": "stream",
          "text": [
            "Model: \"model_4\"\n",
            "_________________________________________________________________\n",
            "Layer (type)                 Output Shape              Param #   \n",
            "=================================================================\n",
            "input_6 (InputLayer)         [(None, 2500, 9)]         0         \n",
            "_________________________________________________________________\n",
            "conv1d_21 (Conv1D)           (None, 2500, 64)          4096      \n",
            "=================================================================\n",
            "Total params: 4,096\n",
            "Trainable params: 4,096\n",
            "Non-trainable params: 0\n",
            "_________________________________________________________________\n"
          ],
          "name": "stdout"
        }
      ]
    },
    {
      "cell_type": "markdown",
      "metadata": {
        "id": "UXbq55RQ2Wnn"
      },
      "source": [
        "# Example of Convolutional Neural Network\r\n"
      ]
    },
    {
      "cell_type": "code",
      "metadata": {
        "id": "D3N6ZM0wNMui"
      },
      "source": [
        "# cnn model\r\n",
        "\r\n",
        "# fit and evaluate a model\r\n",
        "def evaluate_model(X_train, Y_train, X_test, Y_test, n_filters):\r\n",
        "  verbose, epochs, batch_size = 0, 10, 32\r\n",
        "  n_timesteps, n_features, n_outputs = X_train.shape[1], X_train.shape[2], Y_train.shape[1]\r\n",
        "  model = Sequential()\r\n",
        "  model.add(Conv1D(filters=n_filters, kernel_size=3, activation='relu', input_shape=(n_timesteps,n_features)))\r\n",
        "  model.add(Conv1D(filters=n_filters, kernel_size=3, activation='relu'))\r\n",
        "  model.add(Dropout(0.5))\r\n",
        "  model.add(MaxPooling1D(pool_size=2))\r\n",
        "  model.add(Flatten())\r\n",
        "  model.add(Dense(100, activation='relu'))\r\n",
        "  model.add(Dense(n_outputs, activation='softmax'))\r\n",
        "  model.compile(loss='categorical_crossentropy', optimizer='adam', metrics=['accuracy'])\r\n",
        "  # fit network\r\n",
        "  model.fit(X_train, Y_train, epochs=epochs, batch_size=batch_size, verbose=verbose)\r\n",
        "  # evaluate model\r\n",
        "  _, accuracy = model.evaluate(X_test, Y_test, batch_size=batch_size, verbose=0)\r\n",
        "  return accuracy\r\n",
        "  "
      ],
      "execution_count": null,
      "outputs": []
    },
    {
      "cell_type": "code",
      "metadata": {
        "id": "4w0Aq8erNPR6"
      },
      "source": [
        "# summarize scores\r\n",
        "def summarize_results(scores, params):\r\n",
        "\tprint(scores, params)\r\n",
        "\t# summarize mean and standard deviation\r\n",
        "\tfor i in range(len(scores)):\r\n",
        "\t\tm, s = mean(scores[i]), std(scores[i])\r\n",
        "\t\tprint('Param=%d: %.3f%% (+/-%.3f)' % (params[i], m, s))\r\n",
        "\t# boxplot of scores\r\n",
        "\tpyplot.boxplot(scores, labels=params)\r\n",
        "\tpyplot.savefig('exp_cnn_filters.png')"
      ],
      "execution_count": null,
      "outputs": []
    },
    {
      "cell_type": "code",
      "metadata": {
        "id": "C1Zbbj1hNSLa"
      },
      "source": [
        "# run an experiment\r\n",
        "def run_experiment(params, repeats=10):\r\n",
        "\t# test each parameter\r\n",
        "\tall_scores = list()\r\n",
        "\tfor p in params:\r\n",
        "\t\t# repeat experiment\r\n",
        "\t\tscores = list()\r\n",
        "\t\tfor r in range(repeats):\r\n",
        "\t\t\tscore = evaluate_model(x_train, y_train, x_test, y_test, p)\r\n",
        "\t\t\tscore = score * 100.0\r\n",
        "\t\t\tprint('>p=%d #%d: %.3f' % (p, r+1, score))\r\n",
        "\t\t\tscores.append(score)\r\n",
        "\t\tall_scores.append(scores)\r\n",
        "\t# summarize results\r\n",
        "\tsummarize_results(all_scores, params)"
      ],
      "execution_count": null,
      "outputs": []
    },
    {
      "cell_type": "code",
      "metadata": {
        "id": "Ecy4NqTfNhQ1"
      },
      "source": [
        "\t# load data\r\n",
        "\tx_train, y_train, x_test, y_test = load_dataset()"
      ],
      "execution_count": null,
      "outputs": []
    },
    {
      "cell_type": "code",
      "metadata": {
        "id": "Yf8E-IrvNUNR"
      },
      "source": [
        "# run the experiment\r\n",
        "n_params = [8, 16, 32, 64, 128, 256]\r\n",
        "run_experiment(n_params)"
      ],
      "execution_count": null,
      "outputs": []
    },
    {
      "cell_type": "code",
      "metadata": {
        "id": "6sR4uJlta6bY"
      },
      "source": [
        ""
      ],
      "execution_count": null,
      "outputs": []
    }
  ]
}