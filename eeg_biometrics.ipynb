{
  "nbformat": 4,
  "nbformat_minor": 0,
  "metadata": {
    "colab": {
      "name": "eeg_biometrics.ipynb",
      "provenance": []
    },
    "kernelspec": {
      "name": "python3",
      "display_name": "Python 3"
    }
  },
  "cells": [
    {
      "cell_type": "markdown",
      "metadata": {
        "id": "EkWW2ddS9Tqb"
      },
      "source": [
        "# EEG Biometrics\r\n"
      ]
    },
    {
      "cell_type": "code",
      "metadata": {
        "id": "lCJoISV69Ugz",
        "colab": {
          "base_uri": "https://localhost:8080/"
        },
        "outputId": "e33939ca-acdf-4d1b-f0f2-41c7a03d730f"
      },
      "source": [
        "import numpy as np\r\n",
        "from matplotlib import pyplot as plt\r\n",
        "from google.colab import drive\r\n",
        "\r\n",
        "\r\n",
        "drive.mount('/content/drive')\r\n",
        "\r\n",
        "\r\n",
        "print(\"this is a test\")\r\n",
        "print(\"this is another test\")"
      ],
      "execution_count": 3,
      "outputs": [
        {
          "output_type": "stream",
          "text": [
            "Drive already mounted at /content/drive; to attempt to forcibly remount, call drive.mount(\"/content/drive\", force_remount=True).\n",
            "this is a test\n",
            "this is another test\n"
          ],
          "name": "stdout"
        }
      ]
    }
  ]
}