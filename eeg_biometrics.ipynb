{
  "nbformat": 4,
  "nbformat_minor": 0,
  "metadata": {
    "colab": {
      "name": "eeg_biometrics.ipynb",
      "provenance": []
    },
    "kernelspec": {
      "name": "python3",
      "display_name": "Python 3"
    }
  },
  "cells": [
    {
      "cell_type": "markdown",
      "metadata": {
        "id": "EkWW2ddS9Tqb"
      },
      "source": [
        "# EEG Biometrics\r\n"
      ]
    },
    {
      "cell_type": "code",
      "metadata": {
        "id": "lCJoISV69Ugz"
      },
      "source": [
        "import numpy as np\r\n",
        "from matplotlib import pyplot as plt"
      ],
      "execution_count": null,
      "outputs": []
    }
  ]
}