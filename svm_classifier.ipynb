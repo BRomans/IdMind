{
  "nbformat": 4,
  "nbformat_minor": 0,
  "metadata": {
    "colab": {
      "name": "svm_classifier.ipynb",
      "provenance": [],
      "collapsed_sections": [],
      "authorship_tag": "ABX9TyOMlU6fsu8eTHeC6NjAcQgf",
      "include_colab_link": true
    },
    "kernelspec": {
      "name": "python3",
      "display_name": "Python 3"
    }
  },
  "cells": [
    {
      "cell_type": "markdown",
      "metadata": {
        "id": "view-in-github",
        "colab_type": "text"
      },
      "source": [
        "<a href=\"https://colab.research.google.com/github/BRomans/IdMind/blob/main/svm_classifier.ipynb\" target=\"_parent\"><img src=\"https://colab.research.google.com/assets/colab-badge.svg\" alt=\"Open In Colab\"/></a>"
      ]
    },
    {
      "cell_type": "code",
      "metadata": {
        "id": "DtPuxuOq-NNf"
      },
      "source": [
        "# Run this cell to load required libraries and mount your Drive folder\r\n",
        "import numpy as np\r\n",
        "from numpy.random import choice\r\n",
        "from matplotlib import pyplot as plt\r\n",
        "from google.colab import drive\r\n",
        "import os\r\n",
        "from sklearn.svm import SVC\r\n",
        "from sklearn.base import clone\r\n",
        "from sklearn.metrics import accuracy_score, precision_score, recall_score\r\n",
        "import pandas as pd\r\n",
        "import itertools\r\n",
        "import random\r\n",
        "from time import time"
      ],
      "execution_count": 1,
      "outputs": []
    },
    {
      "cell_type": "code",
      "metadata": {
        "id": "W4SYznPA-O1k"
      },
      "source": [
        "# Seed value\r\n",
        "seed_value = 10\r\n",
        "\r\n",
        "# 1. Set `PYTHONHASHSEED` environment variable at a fixed value\r\n",
        "os.environ['PYTHONHASHSEED']=str(seed_value)\r\n",
        "\r\n",
        "# 2. Set `python` built-in pseudo-random generator at a fixed value\r\n",
        "random.seed(seed_value)\r\n",
        "\r\n",
        "# 3. Set `numpy` pseudo-random generator at a fixed value\r\n",
        "np.random.seed(seed_value)"
      ],
      "execution_count": 2,
      "outputs": []
    },
    {
      "cell_type": "code",
      "metadata": {
        "colab": {
          "base_uri": "https://localhost:8080/"
        },
        "id": "wNZSc0rp-PK2",
        "outputId": "89c553a5-f022-410f-e474-f5c54e2c5e86"
      },
      "source": [
        "drive.mount('/content/drive')\r\n",
        "dirpath = \"/content/drive/MyDrive/ml2-eeg-biometrics/train-test-data/\" "
      ],
      "execution_count": 3,
      "outputs": [
        {
          "output_type": "stream",
          "text": [
            "Mounted at /content/drive\n"
          ],
          "name": "stdout"
        }
      ]
    },
    {
      "cell_type": "code",
      "metadata": {
        "id": "oM4oGTnlLBhh"
      },
      "source": [
        "class SVM_one_v_all:\r\n",
        "  def __init__(self, C=1.0, kernel='rbf', degree=3, gamma='scale', random_state=None, verification=False):\r\n",
        "    \"\"\" Initialise the instance, saving the relevant parameters. \"\"\"\r\n",
        "    self.C = C\r\n",
        "    self.kernel = kernel\r\n",
        "    self.degree = degree\r\n",
        "    self.gamma = gamma\r\n",
        "    self.random_state = random_state\r\n",
        "    self.svm = SVC(C=C, kernel=kernel, degree=degree, gamma=gamma, random_state=random_state, probability=True)\r\n",
        "    self.verification=verification\r\n",
        "\r\n",
        "  def fit(self, x_train, y_train, size_factor = 3, verbose=True):\r\n",
        "    \"\"\" Fit a multi-class classifier using SVM one-vs-all approach. \r\n",
        "    Input:\r\n",
        "      x_train       2D array of feature values.\r\n",
        "      y_train       1D array of class labels for the training data.\r\n",
        "      size_factor   integer specifying the ratio of negative to positive examples for each binary classifier. Currently not used.  \r\n",
        "      verbose       boolean, if set to True then each class label is printed when its classifier is being trained.\r\n",
        "    Output:\r\n",
        "      None          x_train, y_train, unique class labels, and a list of binary SVMs are saved to the instance. \r\n",
        "    \"\"\"\r\n",
        "    self.y_train = y_train\r\n",
        "    self.x_train = x_train\r\n",
        "    class_values = np.unique(y_train)\r\n",
        "    self.class_values = class_values\r\n",
        "    svm_list = []\r\n",
        "\r\n",
        "    for c in class_values:\r\n",
        "      if verbose: print(c)\r\n",
        "      c_inds = np.where(y_train == c)[0]\r\n",
        "\r\n",
        "      non_c_inds = np.where(y_train != c)[0]\r\n",
        "      size_factor = size_factor if size_factor < len(non_c_inds)/len(c_inds) else len(non_c_inds)/len(c_inds)\r\n",
        "\r\n",
        "      # non_c_inds = choice(non_c_inds, size=int(len(c_inds)*size_factor), replace=False)                 # Take random subset of examples of other classes. size = the number of positive class examples times a user-specified size_factor.\r\n",
        "      \r\n",
        "      x_subset = np.zeros((len(c_inds)+len(non_c_inds), x_train.shape[1]))\r\n",
        "      y_subset = np.zeros(len(c_inds)+len(non_c_inds))\r\n",
        "\r\n",
        "      x_subset[:len(c_inds),:] = x_train[c_inds,:]\r\n",
        "      x_subset[len(c_inds):,:] = x_train[non_c_inds,:]\r\n",
        "\r\n",
        "      y_subset[:len(c_inds)] = 1\r\n",
        "\r\n",
        "      clf = clone(self.svm)\r\n",
        "      clf.fit(x_subset, y_subset)\r\n",
        "\r\n",
        "      svm_list.append(clf)\r\n",
        "    \r\n",
        "    self.svm_list = svm_list\r\n",
        "\r\n",
        "  def predict(self, x_test, verbose=True, class_ver=None, return_probs=False):\r\n",
        "    \"\"\" Predict the class label, given observed feature values \r\n",
        "    Input:\r\n",
        "      x_test        2D array of feature values.\r\n",
        "      verbose       boolean, if set to True then each class label is printed when its respective classifier is being evaluated.\r\n",
        "      class_ver     integer (class), if specified then the model verifies (predicts) whether each sample is from the specified class or not, rather than identifying the class.\r\n",
        "      return_probs  boolean, if set to true then the probabilities are returned as well as the class predictions.\r\n",
        "    Returns:\r\n",
        "      preds       1D array of class predictions.\r\n",
        "      probs       1D array of likelihoods for the predicted classes. Returned only if return_probs set to true in the call to predict().\r\n",
        "    \"\"\"\r\n",
        "    class_values = self.class_values\r\n",
        "\r\n",
        "    if not self.verification:\r\n",
        "      preds = np.zeros(len(x_test))\r\n",
        "      max_probs = np.zeros(len(x_test))\r\n",
        "\r\n",
        "      for i, model in enumerate(self.svm_list):\r\n",
        "        if verbose: print(class_values[i])\r\n",
        "        probs = model.predict_proba(x_test)[:,1]\r\n",
        "        \r\n",
        "        preds[probs > max_probs] = class_values[i]\r\n",
        "        max_probs[probs > max_probs] = probs[probs > max_probs]\r\n",
        "\r\n",
        "    elif class_ver is not None:\r\n",
        "      class_ind = np.where(class_values == class_ver)[0][0]\r\n",
        "      print(class_ind)\r\n",
        "\r\n",
        "      preds = self.svm_list[class_ind].predict(x_test)\r\n",
        "    \r\n",
        "    else:\r\n",
        "      raise ValueError(\"verification is set to True, please supply class_ver.\")\r\n",
        "    \r\n",
        "    if return_probs:\r\n",
        "      return preds, max_probs\r\n",
        "    else:\r\n",
        "      return preds\r\n",
        "\r\n",
        "  def grid_search(self, x_train, y_train, x_valid, y_valid, params, data_name=''):\r\n",
        "    \"\"\" Fit & evaluate models using a given set of parameters. Write results to file.\r\n",
        "    Input:\r\n",
        "      x_train     2D array of feature values.\r\n",
        "      y_train     1D array of class labels for the training data.\r\n",
        "      x_valid     2D array of feature values to be used for prediction and validation.\r\n",
        "      y_valid     1D array of class labels for the validation data.\r\n",
        "      params      Dictionary of parameters to try including, kernel, C, gamma and degree.\r\n",
        "      data_name   String to be added to the output to file for tracking purposes.\r\n",
        "    Returns:\r\n",
        "      None        prints & writes results to file.\r\n",
        "    \"\"\"\r\n",
        "    if  len(params['kernel'])==0 | len(params['C'])==0 | len(params['gamma'])==0 | len(params['degree'])==0:\r\n",
        "      raise ValueError(\"At least one value must be supplied for kernel, C, gamma, and degree.\")\r\n",
        "\r\n",
        "    count=0\r\n",
        "    filepath = '/content/drive/MyDrive/ml2-eeg-biometrics/classification-results.csv'\r\n",
        "\r\n",
        "    for kernel in params['kernel']:\r\n",
        "      for C in params['C']:\r\n",
        "        for gamma in params['gamma']:\r\n",
        "          for degree in params['degree']:\r\n",
        "            print(\"-\"*40)\r\n",
        "            print(\"{}: kernel: {}, C: {}, gamma: {}, degree: {}\".format(count, kernel, C, gamma, degree))\r\n",
        "            self.svm = SVC(C=C, kernel=kernel, degree=degree, gamma=gamma, random_state=self.random_state, probability=True)\r\n",
        "\r\n",
        "            print(' Fitting....')\r\n",
        "            self.fit(x_train, y_train, verbose=False)\r\n",
        "\r\n",
        "            print(' Calculating results....')\r\n",
        "            train_pred = self.predict(x_train, verbose=False)\r\n",
        "            train_acc = accuracy_score(y_train, train_pred)\r\n",
        "            print(\"train_acc: {0:.3f}\".format(train_acc))\r\n",
        "\r\n",
        "            valid_pred = self.predict(x_valid, verbose=False)\r\n",
        "            valid_acc = accuracy_score(y_valid, valid_pred)\r\n",
        "            print(\"validation_acc: {0:.3f}\".format(valid_acc))\r\n",
        "\r\n",
        "            mode = 'a' if os.path.isfile(filepath) else 'w'\r\n",
        "\r\n",
        "            timestamp = pd.Timestamp.now()\r\n",
        "            line = ','.join(map(str, [data_name,count,timestamp,kernel,C,gamma,degree,train_acc,valid_acc]))\r\n",
        "            print(line)\r\n",
        "            with open(filepath, mode) as file:\r\n",
        "              file.write(line + '\\n')\r\n",
        "\r\n",
        "            count+=1\r\n",
        "\r\n",
        "  def add_test_class(self, x_test, y_test, id_test):\r\n",
        "    \"\"\" \r\n",
        "    Add an unseen participant to the system and test the results. \r\n",
        "    Separates the test data into the 6 runs, trains a model on 5 runs and tests the results on the left out run - similar to 6-fold cross validation.\r\n",
        "    Input:\r\n",
        "      x_test    2D array of feature values for the unseen participant\r\n",
        "      y_test    1D array of class labels for the unseen participant - should contain only one unique class label.\r\n",
        "      id_test   2D array of session information for the unseen participant, so the individual runs can be split.\r\n",
        "    Returns:\r\n",
        "      train_scores  List of training accuracies from the 6 models trained.\r\n",
        "      test_scores   List of test accuracies on the left-out run of each of the 6 models.\r\n",
        "    \"\"\"\r\n",
        "    if len(np.unique(y_test)) != 1:\r\n",
        "      raise ValueError(\"More than one class found in y_test.\")\r\n",
        "\r\n",
        "    class_values = self.class_values\r\n",
        "    svm_list = self.svm_list\r\n",
        "\r\n",
        "    new_class = np.unique(y_test)[0]\r\n",
        "    class_values = np.append(class_values, new_class)                             # Add the new class to the array of classes.\r\n",
        "\r\n",
        "    clf = clone(self.svm)\r\n",
        "    svm_list.append(clf)\r\n",
        "\r\n",
        "    self.svm_list = svm_list\r\n",
        "    self.class_values = class_values\r\n",
        "\r\n",
        "    train_scores, test_scores = [], []\r\n",
        "\r\n",
        "    for run in ['Run1','Run2','Run3','Run4','Run5','Run6']:\r\n",
        "      print(run, \"...\")\r\n",
        "      x_test_test = x_test[id_test[:,2] == run,:]                             # Get the rows of data for the relevant run - this will be our test set.\r\n",
        "      x_test_train = x_test[id_test[:,2] != run,:]                            # Get the rows of data for the other 5 runs - this will be our training set.\r\n",
        "\r\n",
        "      inds = choice(range(len(self.x_train)), size = len(x_test_train)*3, replace=False)\r\n",
        "\r\n",
        "      x_train_subset = np.concatenate((self.x_train[inds,:], x_test_train))\r\n",
        "      y_train_subset = np.concatenate((np.zeros(len(inds)), np.ones(len(x_test_train))))\r\n",
        "\r\n",
        "      clf.fit(x_train_subset, y_train_subset)  \r\n",
        "\r\n",
        "      y_pred_train = self.predict(x_test_train, verbose=False)\r\n",
        "      y_pred_test = self.predict(x_test_test, verbose=False)\r\n",
        "\r\n",
        "      train_scores.append(accuracy_score(np.array([new_class]*len(y_pred_train)), y_pred_train))\r\n",
        "      test_scores.append(accuracy_score(np.array([new_class]*len(y_pred_test)), y_pred_test))\r\n",
        "\r\n",
        "    print(\"train accuracy: {}, test accuracy: {}\".format(np.mean(train_scores), np.mean(test_scores)))\r\n",
        "\r\n",
        "    return train_scores, test_scores"
      ],
      "execution_count": 8,
      "outputs": []
    },
    {
      "cell_type": "markdown",
      "metadata": {
        "id": "jka-YQd15pvm"
      },
      "source": [
        "#### Classification Performance Report\r\n",
        "Function"
      ]
    },
    {
      "cell_type": "code",
      "metadata": {
        "id": "2T2-AsYR_KFv"
      },
      "source": [
        "# Structure to evaluate classification performance\r\n",
        "from sklearn.metrics import classification_report, confusion_matrix, accuracy_score\r\n",
        "\r\n",
        "def print_results(Y_test, predictions, label_names):\r\n",
        "    print(classification_report(Y_test, predictions))\r\n",
        "    print(\"Classification Accuracy: {0:.3f}\".format(accuracy_score(Y_test, predictions)))\r\n",
        "\r\n",
        "    conf_mat = confusion_matrix(Y_test, predictions)\r\n",
        "\r\n",
        "    fig = plt.figure(figsize=(6,6))\r\n",
        "    width = np.shape(conf_mat)[1]\r\n",
        "    height = np.shape(conf_mat)[0]\r\n",
        "\r\n",
        "    plt.figure(figsize=(12,12))\r\n",
        "    res = plt.imshow(np.array(conf_mat), cmap=plt.cm.summer, interpolation='nearest')\r\n",
        "    for i, row in enumerate(conf_mat):\r\n",
        "        for j, c in enumerate(row):\r\n",
        "            if c>0:\r\n",
        "                plt.text(j-.2, i+.1, c, fontsize=16)\r\n",
        "\r\n",
        "    # cb = fig.colorbar(res)\r\n",
        "    plt.title('Confusion Matrix')\r\n",
        "    _ = plt.xticks(range(len(label_names)), label_names, rotation=90)\r\n",
        "    _ = plt.yticks(range(len(label_names)), label_names)"
      ],
      "execution_count": 15,
      "outputs": []
    },
    {
      "cell_type": "markdown",
      "metadata": {
        "id": "M0JX2t-U5Fkf"
      },
      "source": [
        "#### Initial set of encodings for testing."
      ]
    },
    {
      "cell_type": "code",
      "metadata": {
        "id": "UBcFWrOF-Qho"
      },
      "source": [
        "# # Load one set of data.\r\n",
        "# x_train = np.load(dirpath + 'train_encoding_model_2021-01-19 19:36:47.206950.npy')\r\n",
        "# x_valid = np.load(dirpath + 'valid_encoding_model_2021-01-19 19:36:47.206950.npy')"
      ],
      "execution_count": null,
      "outputs": []
    },
    {
      "cell_type": "markdown",
      "metadata": {
        "id": "79-qusxZZgvg"
      },
      "source": [
        "#### Load the class labels & session information"
      ]
    },
    {
      "cell_type": "code",
      "metadata": {
        "id": "zw1MwuSFZdKp"
      },
      "source": [
        "y_train = np.load(dirpath + 'y_train.npy')\r\n",
        "y_train = y_train.reshape((-1,))\r\n",
        "\r\n",
        "y_valid= np.load(dirpath + 'y_valid.npy', allow_pickle=True)\r\n",
        "y_valid = y_valid.reshape((-1,))\r\n",
        "y_valid = np.array(y_valid, dtype='int64') # Read in as object vector with allow_pickle, not sure why.\r\n",
        "\r\n",
        "id_train = np.load(dirpath + 'id_train.npy', allow_pickle=True)\r\n",
        "id_train = id_train.reshape((-1, 5))\r\n",
        "\r\n",
        "id_valid = np.load(dirpath + 'id_valid.npy', allow_pickle=True)\r\n",
        "id_valid = id_valid.reshape((-1, 5))"
      ],
      "execution_count": 5,
      "outputs": []
    },
    {
      "cell_type": "code",
      "metadata": {
        "id": "OCiTsyDciqH2"
      },
      "source": [
        "dirpath = \"/content/drive/MyDrive/ml2-eeg-biometrics/saved_encoders/encodings/\"\r\n",
        "file_list = os.listdir(dirpath)\r\n",
        "\r\n",
        "params = {'kernel':['rbf'], 'C':[10.0], 'gamma':['scale'], 'degree':[3]}\r\n",
        "\r\n",
        "\r\n",
        "for model_num in [19,27,17]:\r\n",
        "  prev=time()\r\n",
        "  train_file = [f for f in file_list if f.startswith(str(model_num) + '_train')][0]\r\n",
        "  validation_file = [f for f in file_list if f.startswith(str(model_num) + '_valid')][0]\r\n",
        "  print(\"=\"*80)\r\n",
        "  print(\"Model {}:\\n Loading data....\".format(model_num))\r\n",
        "  x_train = np.load(dirpath + train_file)\r\n",
        "  x_valid = np.load(dirpath + validation_file)\r\n",
        "\r\n",
        "  svm = SVM_one_v_all(random_state=0)\r\n",
        "\r\n",
        "  svm.grid_search(x_train, y_train, x_valid, y_valid, params=params, data_name=str(model_num))\r\n",
        "\r\n",
        "  print(round(time()-prev, 5), \" seconds\")"
      ],
      "execution_count": null,
      "outputs": []
    },
    {
      "cell_type": "code",
      "metadata": {
        "colab": {
          "base_uri": "https://localhost:8080/"
        },
        "id": "d5-uSBjVyVO1",
        "outputId": "aa612c93-d164-4f6e-8c40-2f23162239fe"
      },
      "source": [
        "dirpath = \"/content/drive/MyDrive/ml2-eeg-biometrics/saved_encoders/encodings/\"\r\n",
        "file_list = os.listdir(dirpath)\r\n",
        "\r\n",
        "params = {'kernel':['rbf'], 'C':[100.0], 'gamma':[6e-3], 'degree':[2]}\r\n",
        "# params = {'kernel':['rbf'], 'C':[10.0], 'gamma':['scale'], 'degree':[2]}\r\n",
        "\r\n",
        "chosen_model = 17\r\n",
        "\r\n",
        "prev=time()\r\n",
        "train_file = [f for f in file_list if f.startswith(str(chosen_model) + '_train')][0]\r\n",
        "validation_file = [f for f in file_list if f.startswith(str(chosen_model) + '_valid')][0]\r\n",
        "print(\"=\"*80)\r\n",
        "print(\"Model {}:\\n Loading data....\".format(chosen_model))\r\n",
        "x_train = np.load(dirpath + train_file)\r\n",
        "x_valid = np.load(dirpath + validation_file)\r\n",
        "\r\n",
        "svm = SVM_one_v_all(random_state=0)\r\n",
        "\r\n",
        "svm.grid_search(x_train, y_train, x_valid, y_valid, params=params, data_name=str(chosen_model)+'(unbalanced-total)')\r\n",
        "\r\n",
        "print(round(time()-prev, 5), \" seconds\")"
      ],
      "execution_count": null,
      "outputs": [
        {
          "output_type": "stream",
          "text": [
            "================================================================================\n",
            "Model 17:\n",
            " Loading data....\n",
            "----------------------------------------\n",
            "0: kernel: rbf, C: 10.0, gamma: 0.002, degree: 2\n",
            " Fitting....\n",
            " Calculating results....\n",
            "train_acc: 0.966\n",
            "validation_acc: 0.476\n",
            "17(unbalanced-total),0,2021-01-23 14:27:30.648229,rbf,10.0,0.002,2,0.9660915228807202,0.47615384615384615\n",
            "----------------------------------------\n",
            "1: kernel: rbf, C: 10.0, gamma: 0.004, degree: 2\n",
            " Fitting....\n",
            " Calculating results....\n",
            "train_acc: 0.999\n",
            "validation_acc: 0.488\n",
            "17(unbalanced-total),1,2021-01-23 14:36:44.169752,rbf,10.0,0.004,2,0.9989497374343586,0.48846153846153845\n",
            "----------------------------------------\n",
            "2: kernel: rbf, C: 10.0, gamma: 0.006, degree: 2\n",
            " Fitting....\n",
            " Calculating results....\n",
            "train_acc: 1.000\n",
            "validation_acc: 0.490\n",
            "17(unbalanced-total),2,2021-01-23 14:48:01.687466,rbf,10.0,0.006,2,0.9996999249812453,0.49\n",
            "----------------------------------------\n",
            "3: kernel: rbf, C: 50.0, gamma: 0.002, degree: 2\n",
            " Fitting....\n",
            " Calculating results....\n",
            "train_acc: 0.995\n",
            "validation_acc: 0.477\n",
            "17(unbalanced-total),3,2021-01-23 14:55:49.479714,rbf,50.0,0.002,2,0.9953488372093023,0.47692307692307695\n",
            "----------------------------------------\n",
            "4: kernel: rbf, C: 50.0, gamma: 0.004, degree: 2\n",
            " Fitting....\n",
            " Calculating results....\n",
            "train_acc: 1.000\n",
            "validation_acc: 0.476\n",
            "17(unbalanced-total),4,2021-01-23 15:05:04.365007,rbf,50.0,0.004,2,0.999549887471868,0.47615384615384615\n",
            "----------------------------------------\n",
            "5: kernel: rbf, C: 50.0, gamma: 0.006, degree: 2\n",
            " Fitting....\n",
            " Calculating results....\n",
            "train_acc: 1.000\n",
            "validation_acc: 0.482\n",
            "17(unbalanced-total),5,2021-01-23 15:16:18.369423,rbf,50.0,0.006,2,1.0,0.4823076923076923\n",
            "----------------------------------------\n",
            "6: kernel: rbf, C: 100.0, gamma: 0.002, degree: 2\n",
            " Fitting....\n",
            " Calculating results....\n",
            "train_acc: 0.996\n",
            "validation_acc: 0.456\n",
            "17(unbalanced-total),6,2021-01-23 15:24:06.386069,rbf,100.0,0.002,2,0.9957989497374343,0.45615384615384613\n",
            "----------------------------------------\n",
            "7: kernel: rbf, C: 100.0, gamma: 0.004, degree: 2\n",
            " Fitting....\n",
            " Calculating results....\n",
            "train_acc: 0.999\n",
            "validation_acc: 0.485\n",
            "17(unbalanced-total),7,2021-01-23 15:33:17.502834,rbf,100.0,0.004,2,0.9990997749437359,0.48538461538461536\n",
            "----------------------------------------\n",
            "8: kernel: rbf, C: 100.0, gamma: 0.006, degree: 2\n",
            " Fitting....\n",
            " Calculating results....\n",
            "train_acc: 1.000\n",
            "validation_acc: 0.495\n",
            "17(unbalanced-total),8,2021-01-23 15:44:32.834607,rbf,100.0,0.006,2,0.999549887471868,0.49538461538461537\n",
            "5072.13336  seconds\n"
          ],
          "name": "stdout"
        }
      ]
    },
    {
      "cell_type": "code",
      "metadata": {
        "id": "iHNZmwQBAIvc"
      },
      "source": [
        "y_pred = svm.predict(x_valid)\r\n",
        "\r\n",
        "print_results(y_valid, y_pred, np.unique(y_valid))"
      ],
      "execution_count": null,
      "outputs": []
    },
    {
      "cell_type": "markdown",
      "metadata": {
        "id": "luesV02Pzo77"
      },
      "source": [
        "### Test unseen class"
      ]
    },
    {
      "cell_type": "markdown",
      "metadata": {
        "id": "jQ33rxL06GGz"
      },
      "source": [
        "##### Load test dataset"
      ]
    },
    {
      "cell_type": "code",
      "metadata": {
        "colab": {
          "base_uri": "https://localhost:8080/"
        },
        "id": "yH7gyLR7qUy6",
        "outputId": "5c61d841-f2a2-4ec0-a9a5-22284ec74fe9"
      },
      "source": [
        "x_test = np.load(\"/content/drive/MyDrive/ml2-eeg-biometrics/saved_encoders/test_encodings/17_test_encoding.npy\")\r\n",
        "\r\n",
        "y_test = np.load(\"/content/drive/MyDrive/ml2-eeg-biometrics/train-test-data/y_test.npy\", allow_pickle=True)\r\n",
        "y_test = y_test.reshape((-1))\r\n",
        "y_test = np.array(y_test, dtype='int64') # Read in as object vector with allow_pickle, not sure why.\r\n",
        "\r\n",
        "id_test = np.load(\"/content/drive/MyDrive/ml2-eeg-biometrics/train-test-data/id_test.npy\", allow_pickle=True)\r\n",
        "id_test = id_test.reshape((-1,5))\r\n",
        "\r\n",
        "print(\"Shapes: \", x_test.shape, y_test.shape, id_test.shape)"
      ],
      "execution_count": null,
      "outputs": [
        {
          "output_type": "stream",
          "text": [
            "Shapes:  (419, 250) (419,) (419, 5)\n"
          ],
          "name": "stdout"
        }
      ]
    },
    {
      "cell_type": "markdown",
      "metadata": {
        "id": "TdOZNaq16J1c"
      },
      "source": [
        "##### Fit the model on the training data initially."
      ]
    },
    {
      "cell_type": "code",
      "metadata": {
        "id": "hYKuBx5nrJhC"
      },
      "source": [
        "svm_final = SVM_one_v_all(random_state=0, C=100.0, kernel='rbf', degree=2, gamma=0.006)\r\n",
        "\r\n",
        "svm_final.fit(x_train, y_train, verbose=False)"
      ],
      "execution_count": null,
      "outputs": []
    },
    {
      "cell_type": "code",
      "metadata": {
        "id": "HqF_Jo-qr-CG"
      },
      "source": [
        "svm_final.add_test_class(x_test, y_test, id_test)"
      ],
      "execution_count": null,
      "outputs": []
    },
    {
      "cell_type": "code",
      "metadata": {
        "id": "8GVdV_6e9gmp"
      },
      "source": [
        "x_train_18 = x_train[y_train != 18,:]\r\n",
        "y_train_18 = y_train[y_train != 18]\r\n",
        "\r\n",
        "svm_final_debug = SVM_one_v_all(random_state=0, C=10.0, kernel='rbf', degree=2, gamma=0.006)\r\n",
        "\r\n",
        "svm_final_debug.fit(x_train_18, y_train_18, verbose=False)"
      ],
      "execution_count": null,
      "outputs": []
    },
    {
      "cell_type": "code",
      "metadata": {
        "id": "DtKf9xB6CvJ9"
      },
      "source": [
        "svm_final_debug.add_test_class(x_train[y_train==18,:], y_train[y_train==3], id_train[y_train==18,:])"
      ],
      "execution_count": null,
      "outputs": []
    },
    {
      "cell_type": "markdown",
      "metadata": {
        "id": "Mfwj5NvC4wC4"
      },
      "source": [
        "### Performance on subset of classes"
      ]
    },
    {
      "cell_type": "code",
      "metadata": {
        "id": "XC6jbbgEzBQs"
      },
      "source": [
        "### Test performance when number of partipicants/identities to predict is lower.\r\n",
        "n_classes = 20\r\n",
        "x_train_subset = x_train[y_train < n_classes]\r\n",
        "y_train_subset = y_train[y_train < n_classes]\r\n",
        "x_valid_subset = x_valid[y_valid < n_classes]\r\n",
        "y_valid_subset = y_valid[y_valid < n_classes]\r\n",
        "\r\n",
        "params = {'kernel':['rbf'], 'C':[100.0], 'gamma':['0.006'], 'degree':[2]}\r\n",
        "# params = {'kernel':['rbf'], 'C':[10.0], 'gamma':['scale'], 'degree':[2]}\r\n",
        "\r\n",
        "chosen_model = 17\r\n",
        "\r\n",
        "prev=time()\r\n",
        "\r\n",
        "svm = SVM_one_v_all(random_state=0)\r\n",
        "\r\n",
        "# svm.grid_search(x_train_subset, y_train_subset, x_valid_subset, y_valid_subset, params=params, data_name=str(chosen_model)+'-(2 classes)')\r\n",
        "\r\n",
        "svm.fit(x_train_subset, y_train_subset)\r\n",
        "y_pred = svm.predict(x_train_subset)\r\n",
        "y_pred_valid, y_probs_valid = svm.predict(x_valid_subset, return_probs=True)\r\n",
        "\r\n",
        "print(round(time()-prev, 5), \" seconds\")"
      ],
      "execution_count": null,
      "outputs": []
    },
    {
      "cell_type": "code",
      "metadata": {
        "colab": {
          "base_uri": "https://localhost:8080/",
          "height": 554
        },
        "id": "lCohEovNXros",
        "outputId": "b6115347-6e7d-4504-be11-488018a4c757"
      },
      "source": [
        "threshold = 0.5\r\n",
        "print(\"{0:.1f}% of predictions with a class likelihood above {1}\".format(100*sum(y_probs_valid>threshold)/len(y_probs_valid), threshold))\r\n",
        "\r\n",
        "precisions, recalls = [], []\r\n",
        "for threshold in np.linspace(0, 0.95, 20):\r\n",
        "  y_pred_threshold = y_pred_valid[y_probs_valid > threshold]\r\n",
        "  y_true_threshold = y_valid_subset[y_probs_valid > threshold]\r\n",
        "\r\n",
        "  y_pred_threshold_complete = [y if y_probs_valid[i] > threshold else -1 for i,y in enumerate(y_pred_valid)]\r\n",
        "\r\n",
        "  precisions.append(precision_score(y_true_threshold, y_pred_threshold, average='micro'))\r\n",
        "  recalls.append(recall_score(y_valid_subset, y_pred_threshold_complete, average='micro'))\r\n",
        "\r\n",
        "plt.figure(figsize=(10,8))\r\n",
        "plt.plot(recalls, precisions)\r\n",
        "plt.title(\"Recall-Precision Curve\", size=14)\r\n",
        "plt.xlabel(\"Mean Recall Across All Classes\",size=14)\r\n",
        "plt.ylabel(\"Mean Precision Across All Classes\", size=14)"
      ],
      "execution_count": 76,
      "outputs": [
        {
          "output_type": "stream",
          "text": [
            "33.3% of predictions with a class likelihood above 0.5\n"
          ],
          "name": "stdout"
        },
        {
          "output_type": "execute_result",
          "data": {
            "text/plain": [
              "Text(0, 0.5, 'Mean Precision Across All Classes')"
            ]
          },
          "metadata": {
            "tags": []
          },
          "execution_count": 76
        },
        {
          "output_type": "display_data",
          "data": {
            "image/png": "[encoded data removed]",
            "text/plain": [
              "<Figure size 720x576 with 1 Axes>"
            ]
          },
          "metadata": {
            "tags": [],
            "needs_background": "light"
          }
        }
      ]
    },
    {
      "cell_type": "code",
      "metadata": {
        "colab": {
          "base_uri": "https://localhost:8080/",
          "height": 1000
        },
        "id": "0d7IXyDrNYIr",
        "outputId": "1311492e-419a-40c0-ed6f-95aa20e06a25"
      },
      "source": [
        "print_results(y_valid_subset, y_pred_valid, np.unique(y_valid_subset))"
      ],
      "execution_count": 79,
      "outputs": [
        {
          "output_type": "stream",
          "text": [
            "              precision    recall  f1-score   support\n",
            "\n",
            "           0       0.36      0.39      0.37        70\n",
            "           1       0.40      0.70      0.51        70\n",
            "           2       0.54      0.49      0.51        70\n",
            "           3       0.42      0.51      0.46        70\n",
            "           4       0.51      0.68      0.59        60\n",
            "           5       0.55      0.51      0.53        70\n",
            "           6       0.53      0.71      0.61        70\n",
            "           7       0.28      0.40      0.33        50\n",
            "           8       0.47      0.24      0.32        70\n",
            "           9       0.42      0.43      0.43        70\n",
            "          10       0.70      0.61      0.66        70\n",
            "          12       0.67      0.31      0.43        70\n",
            "          13       0.47      0.39      0.43        70\n",
            "          14       0.49      0.39      0.43        70\n",
            "          15       0.54      0.64      0.59        70\n",
            "          16       0.49      0.59      0.54        70\n",
            "          17       0.57      0.37      0.45        70\n",
            "          18       0.34      0.30      0.32        70\n",
            "          19       0.28      0.24      0.26        70\n",
            "\n",
            "    accuracy                           0.47      1300\n",
            "   macro avg       0.48      0.47      0.46      1300\n",
            "weighted avg       0.48      0.47      0.46      1300\n",
            "\n",
            "Classification Accuracy: 0.468\n"
          ],
          "name": "stdout"
        },
        {
          "output_type": "display_data",
          "data": {
            "text/plain": [
              "<Figure size 432x432 with 0 Axes>"
            ]
          },
          "metadata": {
            "tags": []
          }
        },
        {
          "output_type": "display_data",
          "data": {
            "image/png": "[encoded data removed]",
            "text/plain": [
              "<Figure size 864x864 with 1 Axes>"
            ]
          },
          "metadata": {
            "tags": [],
            "needs_background": "light"
          }
        }
      ]
    },
    {
      "cell_type": "markdown",
      "metadata": {
        "id": "uI-SS_fBnOOQ"
      },
      "source": [
        "### Test verification approach"
      ]
    },
    {
      "cell_type": "code",
      "metadata": {
        "id": "8yz1RHsPk8NL"
      },
      "source": [
        "# ### Test performance when number of partipicants/identities to predict is lower.\r\n",
        "# n_classes = 1\r\n",
        "# x_train_subset = x_train[y_train < n_classes]\r\n",
        "# y_train_subset = y_train[y_train < n_classes]\r\n",
        "# x_valid_subset = x_valid[y_valid < n_classes]\r\n",
        "# y_valid_subset = y_valid[y_valid < n_classes]\r\n",
        "\r\n",
        "params = {'kernel':['rbf'], 'C':[10.0], 'gamma':['scale'], 'degree':[2]}\r\n",
        "# params = {'kernel':['rbf'], 'C':[10.0], 'gamma':['scale'], 'degree':[2]}\r\n",
        "\r\n",
        "chosen_model = 17\r\n",
        "\r\n",
        "prev=time()\r\n",
        "\r\n",
        "# svm = SVM_one_v_all(random_state=0, verification=True)\r\n",
        "\r\n",
        "# svm.fit(x_train, y_train)\r\n",
        "train_pred = svm.predict(x_train, class_ver=1)\r\n",
        "valid_pred = svm.predict(x_valid, class_ver=1)\r\n",
        "\r\n",
        "y_train_true = y_train ==1\r\n",
        "y_valid_true = y_valid==1\r\n",
        "\r\n",
        "print_results(y_valid_true, valid_pred, np.unique(y_valid_true))\r\n",
        "\r\n",
        "print(round(time()-prev, 5), \" seconds\")"
      ],
      "execution_count": null,
      "outputs": []
    },
    {
      "cell_type": "code",
      "metadata": {
        "id": "OED30XoFCQz4"
      },
      "source": [
        "id_train_df = pd.DataFrame(id_train, columns=['Subject', 'Date','Run','Task','Trial'])\r\n",
        "\r\n",
        "# Get the minimum date for each subject.\r\n",
        "df = id_train_df.groupby(by='Subject', as_index=False).max('Date')[['Subject','Date']]\r\n",
        "min_dates = df.astype(str).agg('-'.join, axis=1).values                                 # Convert (Date) to string and concatenate the Subject and Date\r\n",
        "\r\n",
        "rel_ind = np.in1d(id_train[:,0] + '-' + id_train[:,1].astype(str), min_dates)\r\n",
        "\r\n",
        "x_train_1session = x_train[rel_ind]\r\n",
        "y_train_1session = y_train[rel_ind]\r\n",
        "\r\n",
        "rel_ind = np.in1d(id_valid[:,0] + '-' + id_valid[:,1].astype(str), min_dates)\r\n",
        "\r\n",
        "x_valid_1session = x_valid[rel_ind]\r\n",
        "y_valid_1session = y_valid[rel_ind]"
      ],
      "execution_count": null,
      "outputs": []
    }
  ]
}